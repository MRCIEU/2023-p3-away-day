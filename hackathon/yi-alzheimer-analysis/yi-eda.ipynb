{
 "cells": [
  {
   "cell_type": "code",
   "execution_count": 65,
   "id": "17731c7a-be47-400e-958d-c8440aca217a",
   "metadata": {},
   "outputs": [],
   "source": [
    "from pathlib import Path\n",
    "from pydash import py_\n",
    "import pandas as pd\n",
    "import seaborn as sns\n",
    "from matplotlib import pyplot as plt"
   ]
  },
  {
   "cell_type": "code",
   "execution_count": 2,
   "id": "af7d9222-a327-4d33-b8d6-6eb9b101f5c4",
   "metadata": {},
   "outputs": [],
   "source": [
    "DATA_FILE = Path(\".\") / \"data\" / \"input\" / \"Alzheimer Disease and Healthy Aging Data In US.csv\"\n",
    "assert DATA_FILE.exists()"
   ]
  },
  {
   "cell_type": "markdown",
   "id": "97855c13-93a5-4bc3-8acc-6497d854a1a9",
   "metadata": {},
   "source": [
    "---"
   ]
  },
  {
   "cell_type": "markdown",
   "id": "45a3ea3d-f0a7-444a-91f2-0875d2159bae",
   "metadata": {},
   "source": [
    "# Init"
   ]
  },
  {
   "cell_type": "code",
   "execution_count": 3,
   "id": "d2d9cacb-4aca-47b3-ab12-f5ecd8e759fe",
   "metadata": {},
   "outputs": [
    {
     "name": "stderr",
     "output_type": "stream",
     "text": [
      "/var/folders/4y/nhj5hxbx1rv20j_lbtnq65t40000gq/T/ipykernel_2432/4283571709.py:1: DtypeWarning: Columns (13,14) have mixed types. Specify dtype option on import or set low_memory=False.\n",
      "  source_df = pd.read_csv(DATA_FILE)\n"
     ]
    },
    {
     "name": "stdout",
     "output_type": "stream",
     "text": [
      "<class 'pandas.core.frame.DataFrame'>\n",
      "RangeIndex: 214462 entries, 0 to 214461\n",
      "Data columns (total 29 columns):\n",
      " #   Column                     Non-Null Count   Dtype  \n",
      "---  ------                     --------------   -----  \n",
      " 0   YearStart                  214462 non-null  int64  \n",
      " 1   YearEnd                    214462 non-null  int64  \n",
      " 2   LocationAbbr               214462 non-null  object \n",
      " 3   LocationDesc               214462 non-null  object \n",
      " 4   Datasource                 214462 non-null  object \n",
      " 5   Class                      214462 non-null  object \n",
      " 6   Topic                      214462 non-null  object \n",
      " 7   Question                   214462 non-null  object \n",
      " 8   Data_Value_Unit            214462 non-null  object \n",
      " 9   DataValueTypeID            214462 non-null  object \n",
      " 10  Data_Value_Type            214462 non-null  object \n",
      " 11  Data_Value                 144629 non-null  float64\n",
      " 12  Data_Value_Alt             144629 non-null  float64\n",
      " 13  Low_Confidence_Limit       144472 non-null  object \n",
      " 14  High_Confidence_Limit      144472 non-null  object \n",
      " 15  Sample_Size                0 non-null       float64\n",
      " 16  StratificationCategory1    214462 non-null  object \n",
      " 17  Stratification1            214462 non-null  object \n",
      " 18  StratificationCategory2    186793 non-null  object \n",
      " 19  Stratification2            186793 non-null  object \n",
      " 20  Geolocation                191413 non-null  object \n",
      " 21  ClassID                    214462 non-null  object \n",
      " 22  TopicID                    214462 non-null  object \n",
      " 23  QuestionID                 214462 non-null  object \n",
      " 24  LocationID                 214462 non-null  int64  \n",
      " 25  StratificationCategoryID1  214462 non-null  object \n",
      " 26  StratificationID1          214462 non-null  object \n",
      " 27  StratificationCategoryID2  214462 non-null  object \n",
      " 28  StratificationID2          214462 non-null  object \n",
      "dtypes: float64(3), int64(3), object(23)\n",
      "memory usage: 47.5+ MB\n"
     ]
    },
    {
     "data": {
      "text/html": [
       "<div>\n",
       "<style scoped>\n",
       "    .dataframe tbody tr th:only-of-type {\n",
       "        vertical-align: middle;\n",
       "    }\n",
       "\n",
       "    .dataframe tbody tr th {\n",
       "        vertical-align: top;\n",
       "    }\n",
       "\n",
       "    .dataframe thead th {\n",
       "        text-align: right;\n",
       "    }\n",
       "</style>\n",
       "<table border=\"1\" class=\"dataframe\">\n",
       "  <thead>\n",
       "    <tr style=\"text-align: right;\">\n",
       "      <th></th>\n",
       "      <th>YearStart</th>\n",
       "      <th>YearEnd</th>\n",
       "      <th>LocationAbbr</th>\n",
       "      <th>LocationDesc</th>\n",
       "      <th>Datasource</th>\n",
       "      <th>Class</th>\n",
       "      <th>Topic</th>\n",
       "      <th>Question</th>\n",
       "      <th>Data_Value_Unit</th>\n",
       "      <th>DataValueTypeID</th>\n",
       "      <th>...</th>\n",
       "      <th>Stratification2</th>\n",
       "      <th>Geolocation</th>\n",
       "      <th>ClassID</th>\n",
       "      <th>TopicID</th>\n",
       "      <th>QuestionID</th>\n",
       "      <th>LocationID</th>\n",
       "      <th>StratificationCategoryID1</th>\n",
       "      <th>StratificationID1</th>\n",
       "      <th>StratificationCategoryID2</th>\n",
       "      <th>StratificationID2</th>\n",
       "    </tr>\n",
       "  </thead>\n",
       "  <tbody>\n",
       "    <tr>\n",
       "      <th>0</th>\n",
       "      <td>2020</td>\n",
       "      <td>2020</td>\n",
       "      <td>HI</td>\n",
       "      <td>Hawaii</td>\n",
       "      <td>BRFSS</td>\n",
       "      <td>Overall Health</td>\n",
       "      <td>Arthritis among older adults</td>\n",
       "      <td>Percentage of older adults ever told they have...</td>\n",
       "      <td>%</td>\n",
       "      <td>PRCTG</td>\n",
       "      <td>...</td>\n",
       "      <td>NaN</td>\n",
       "      <td>POINT (-157.8577494 21.30485044)</td>\n",
       "      <td>C01</td>\n",
       "      <td>TOC11</td>\n",
       "      <td>Q43</td>\n",
       "      <td>15</td>\n",
       "      <td>AGE</td>\n",
       "      <td>5064</td>\n",
       "      <td>OVERALL</td>\n",
       "      <td>OVERALL</td>\n",
       "    </tr>\n",
       "    <tr>\n",
       "      <th>1</th>\n",
       "      <td>2017</td>\n",
       "      <td>2017</td>\n",
       "      <td>ID</td>\n",
       "      <td>Idaho</td>\n",
       "      <td>BRFSS</td>\n",
       "      <td>Mental Health</td>\n",
       "      <td>Lifetime diagnosis of depression</td>\n",
       "      <td>Percentage of older adults with a lifetime dia...</td>\n",
       "      <td>%</td>\n",
       "      <td>PRCTG</td>\n",
       "      <td>...</td>\n",
       "      <td>NaN</td>\n",
       "      <td>POINT (-114.36373 43.68263001)</td>\n",
       "      <td>C05</td>\n",
       "      <td>TMC03</td>\n",
       "      <td>Q27</td>\n",
       "      <td>16</td>\n",
       "      <td>AGE</td>\n",
       "      <td>5064</td>\n",
       "      <td>OVERALL</td>\n",
       "      <td>OVERALL</td>\n",
       "    </tr>\n",
       "    <tr>\n",
       "      <th>2</th>\n",
       "      <td>2017</td>\n",
       "      <td>2017</td>\n",
       "      <td>ID</td>\n",
       "      <td>Idaho</td>\n",
       "      <td>BRFSS</td>\n",
       "      <td>Overall Health</td>\n",
       "      <td>Arthritis among older adults</td>\n",
       "      <td>Percentage of older adults ever told they have...</td>\n",
       "      <td>%</td>\n",
       "      <td>PRCTG</td>\n",
       "      <td>...</td>\n",
       "      <td>NaN</td>\n",
       "      <td>POINT (-114.36373 43.68263001)</td>\n",
       "      <td>C01</td>\n",
       "      <td>TOC11</td>\n",
       "      <td>Q43</td>\n",
       "      <td>16</td>\n",
       "      <td>AGE</td>\n",
       "      <td>5064</td>\n",
       "      <td>OVERALL</td>\n",
       "      <td>OVERALL</td>\n",
       "    </tr>\n",
       "    <tr>\n",
       "      <th>3</th>\n",
       "      <td>2018</td>\n",
       "      <td>2018</td>\n",
       "      <td>ID</td>\n",
       "      <td>Idaho</td>\n",
       "      <td>BRFSS</td>\n",
       "      <td>Overall Health</td>\n",
       "      <td>Physically unhealthy days (mean number of days)</td>\n",
       "      <td>Physically unhealthy days (mean number of days...</td>\n",
       "      <td>Number</td>\n",
       "      <td>MEAN</td>\n",
       "      <td>...</td>\n",
       "      <td>NaN</td>\n",
       "      <td>POINT (-114.36373 43.68263001)</td>\n",
       "      <td>C01</td>\n",
       "      <td>TOC01</td>\n",
       "      <td>Q08</td>\n",
       "      <td>16</td>\n",
       "      <td>AGE</td>\n",
       "      <td>5064</td>\n",
       "      <td>OVERALL</td>\n",
       "      <td>OVERALL</td>\n",
       "    </tr>\n",
       "    <tr>\n",
       "      <th>4</th>\n",
       "      <td>2020</td>\n",
       "      <td>2020</td>\n",
       "      <td>IN</td>\n",
       "      <td>Indiana</td>\n",
       "      <td>BRFSS</td>\n",
       "      <td>Mental Health</td>\n",
       "      <td>Lifetime diagnosis of depression</td>\n",
       "      <td>Percentage of older adults with a lifetime dia...</td>\n",
       "      <td>%</td>\n",
       "      <td>PRCTG</td>\n",
       "      <td>...</td>\n",
       "      <td>Male</td>\n",
       "      <td>POINT (-86.14996019 39.76691045)</td>\n",
       "      <td>C05</td>\n",
       "      <td>TMC03</td>\n",
       "      <td>Q27</td>\n",
       "      <td>18</td>\n",
       "      <td>AGE</td>\n",
       "      <td>AGE_OVERALL</td>\n",
       "      <td>GENDER</td>\n",
       "      <td>MALE</td>\n",
       "    </tr>\n",
       "    <tr>\n",
       "      <th>...</th>\n",
       "      <td>...</td>\n",
       "      <td>...</td>\n",
       "      <td>...</td>\n",
       "      <td>...</td>\n",
       "      <td>...</td>\n",
       "      <td>...</td>\n",
       "      <td>...</td>\n",
       "      <td>...</td>\n",
       "      <td>...</td>\n",
       "      <td>...</td>\n",
       "      <td>...</td>\n",
       "      <td>...</td>\n",
       "      <td>...</td>\n",
       "      <td>...</td>\n",
       "      <td>...</td>\n",
       "      <td>...</td>\n",
       "      <td>...</td>\n",
       "      <td>...</td>\n",
       "      <td>...</td>\n",
       "      <td>...</td>\n",
       "      <td>...</td>\n",
       "    </tr>\n",
       "    <tr>\n",
       "      <th>214457</th>\n",
       "      <td>2016</td>\n",
       "      <td>2016</td>\n",
       "      <td>WY</td>\n",
       "      <td>Wyoming</td>\n",
       "      <td>BRFSS</td>\n",
       "      <td>Overall Health</td>\n",
       "      <td>Physically unhealthy days (mean number of days)</td>\n",
       "      <td>Physically unhealthy days (mean number of days...</td>\n",
       "      <td>Number</td>\n",
       "      <td>MEAN</td>\n",
       "      <td>...</td>\n",
       "      <td>Black, non-Hispanic</td>\n",
       "      <td>POINT (-108.1098304 43.23554134)</td>\n",
       "      <td>C01</td>\n",
       "      <td>TOC01</td>\n",
       "      <td>Q08</td>\n",
       "      <td>56</td>\n",
       "      <td>AGE</td>\n",
       "      <td>5064</td>\n",
       "      <td>RACE</td>\n",
       "      <td>BLK</td>\n",
       "    </tr>\n",
       "    <tr>\n",
       "      <th>214458</th>\n",
       "      <td>2015</td>\n",
       "      <td>2015</td>\n",
       "      <td>WY</td>\n",
       "      <td>Wyoming</td>\n",
       "      <td>BRFSS</td>\n",
       "      <td>Smoking and Alcohol Use</td>\n",
       "      <td>Current smoking</td>\n",
       "      <td>Percentage of older adults who have smoked at ...</td>\n",
       "      <td>%</td>\n",
       "      <td>PRCTG</td>\n",
       "      <td>...</td>\n",
       "      <td>Asian/Pacific Islander</td>\n",
       "      <td>POINT (-108.1098304 43.23554134)</td>\n",
       "      <td>C04</td>\n",
       "      <td>TAC01</td>\n",
       "      <td>Q17</td>\n",
       "      <td>56</td>\n",
       "      <td>AGE</td>\n",
       "      <td>65PLUS</td>\n",
       "      <td>RACE</td>\n",
       "      <td>ASN</td>\n",
       "    </tr>\n",
       "    <tr>\n",
       "      <th>214459</th>\n",
       "      <td>2017</td>\n",
       "      <td>2017</td>\n",
       "      <td>WY</td>\n",
       "      <td>Wyoming</td>\n",
       "      <td>BRFSS</td>\n",
       "      <td>Overall Health</td>\n",
       "      <td>Self-rated health (fair to poor health)</td>\n",
       "      <td>Percentage of older adults who self-reported t...</td>\n",
       "      <td>%</td>\n",
       "      <td>PRCTG</td>\n",
       "      <td>...</td>\n",
       "      <td>Native Am/Alaskan Native</td>\n",
       "      <td>POINT (-108.1098304 43.23554134)</td>\n",
       "      <td>C01</td>\n",
       "      <td>TOC07</td>\n",
       "      <td>Q32</td>\n",
       "      <td>56</td>\n",
       "      <td>AGE</td>\n",
       "      <td>AGE_OVERALL</td>\n",
       "      <td>RACE</td>\n",
       "      <td>NAA</td>\n",
       "    </tr>\n",
       "    <tr>\n",
       "      <th>214460</th>\n",
       "      <td>2016</td>\n",
       "      <td>2016</td>\n",
       "      <td>WY</td>\n",
       "      <td>Wyoming</td>\n",
       "      <td>BRFSS</td>\n",
       "      <td>Overall Health</td>\n",
       "      <td>Fall with injury within last year</td>\n",
       "      <td>Percentage of older adults who have fallen and...</td>\n",
       "      <td>%</td>\n",
       "      <td>PRCTG</td>\n",
       "      <td>...</td>\n",
       "      <td>NaN</td>\n",
       "      <td>POINT (-108.1098304 43.23554134)</td>\n",
       "      <td>C01</td>\n",
       "      <td>TOC06</td>\n",
       "      <td>Q05</td>\n",
       "      <td>56</td>\n",
       "      <td>AGE</td>\n",
       "      <td>5064</td>\n",
       "      <td>OVERALL</td>\n",
       "      <td>OVERALL</td>\n",
       "    </tr>\n",
       "    <tr>\n",
       "      <th>214461</th>\n",
       "      <td>2018</td>\n",
       "      <td>2018</td>\n",
       "      <td>WY</td>\n",
       "      <td>Wyoming</td>\n",
       "      <td>BRFSS</td>\n",
       "      <td>Smoking and Alcohol Use</td>\n",
       "      <td>Binge drinking within past 30 days</td>\n",
       "      <td>Percentage of older adults who reported binge ...</td>\n",
       "      <td>%</td>\n",
       "      <td>PRCTG</td>\n",
       "      <td>...</td>\n",
       "      <td>Black, non-Hispanic</td>\n",
       "      <td>POINT (-108.1098304 43.23554134)</td>\n",
       "      <td>C04</td>\n",
       "      <td>TAC03</td>\n",
       "      <td>Q21</td>\n",
       "      <td>56</td>\n",
       "      <td>AGE</td>\n",
       "      <td>65PLUS</td>\n",
       "      <td>RACE</td>\n",
       "      <td>BLK</td>\n",
       "    </tr>\n",
       "  </tbody>\n",
       "</table>\n",
       "<p>214462 rows × 29 columns</p>\n",
       "</div>"
      ],
      "text/plain": [
       "        YearStart  YearEnd LocationAbbr LocationDesc Datasource  \\\n",
       "0            2020     2020           HI       Hawaii      BRFSS   \n",
       "1            2017     2017           ID        Idaho      BRFSS   \n",
       "2            2017     2017           ID        Idaho      BRFSS   \n",
       "3            2018     2018           ID        Idaho      BRFSS   \n",
       "4            2020     2020           IN      Indiana      BRFSS   \n",
       "...           ...      ...          ...          ...        ...   \n",
       "214457       2016     2016           WY      Wyoming      BRFSS   \n",
       "214458       2015     2015           WY      Wyoming      BRFSS   \n",
       "214459       2017     2017           WY      Wyoming      BRFSS   \n",
       "214460       2016     2016           WY      Wyoming      BRFSS   \n",
       "214461       2018     2018           WY      Wyoming      BRFSS   \n",
       "\n",
       "                          Class  \\\n",
       "0                Overall Health   \n",
       "1                 Mental Health   \n",
       "2                Overall Health   \n",
       "3                Overall Health   \n",
       "4                 Mental Health   \n",
       "...                         ...   \n",
       "214457           Overall Health   \n",
       "214458  Smoking and Alcohol Use   \n",
       "214459           Overall Health   \n",
       "214460           Overall Health   \n",
       "214461  Smoking and Alcohol Use   \n",
       "\n",
       "                                                  Topic  \\\n",
       "0                          Arthritis among older adults   \n",
       "1                      Lifetime diagnosis of depression   \n",
       "2                          Arthritis among older adults   \n",
       "3       Physically unhealthy days (mean number of days)   \n",
       "4                      Lifetime diagnosis of depression   \n",
       "...                                                 ...   \n",
       "214457  Physically unhealthy days (mean number of days)   \n",
       "214458                                  Current smoking   \n",
       "214459          Self-rated health (fair to poor health)   \n",
       "214460                Fall with injury within last year   \n",
       "214461               Binge drinking within past 30 days   \n",
       "\n",
       "                                                 Question Data_Value_Unit  \\\n",
       "0       Percentage of older adults ever told they have...               %   \n",
       "1       Percentage of older adults with a lifetime dia...               %   \n",
       "2       Percentage of older adults ever told they have...               %   \n",
       "3       Physically unhealthy days (mean number of days...          Number   \n",
       "4       Percentage of older adults with a lifetime dia...               %   \n",
       "...                                                   ...             ...   \n",
       "214457  Physically unhealthy days (mean number of days...          Number   \n",
       "214458  Percentage of older adults who have smoked at ...               %   \n",
       "214459  Percentage of older adults who self-reported t...               %   \n",
       "214460  Percentage of older adults who have fallen and...               %   \n",
       "214461  Percentage of older adults who reported binge ...               %   \n",
       "\n",
       "       DataValueTypeID  ...           Stratification2  \\\n",
       "0                PRCTG  ...                       NaN   \n",
       "1                PRCTG  ...                       NaN   \n",
       "2                PRCTG  ...                       NaN   \n",
       "3                 MEAN  ...                       NaN   \n",
       "4                PRCTG  ...                      Male   \n",
       "...                ...  ...                       ...   \n",
       "214457            MEAN  ...       Black, non-Hispanic   \n",
       "214458           PRCTG  ...    Asian/Pacific Islander   \n",
       "214459           PRCTG  ...  Native Am/Alaskan Native   \n",
       "214460           PRCTG  ...                       NaN   \n",
       "214461           PRCTG  ...       Black, non-Hispanic   \n",
       "\n",
       "                             Geolocation  ClassID TopicID QuestionID  \\\n",
       "0       POINT (-157.8577494 21.30485044)      C01   TOC11        Q43   \n",
       "1         POINT (-114.36373 43.68263001)      C05   TMC03        Q27   \n",
       "2         POINT (-114.36373 43.68263001)      C01   TOC11        Q43   \n",
       "3         POINT (-114.36373 43.68263001)      C01   TOC01        Q08   \n",
       "4       POINT (-86.14996019 39.76691045)      C05   TMC03        Q27   \n",
       "...                                  ...      ...     ...        ...   \n",
       "214457  POINT (-108.1098304 43.23554134)      C01   TOC01        Q08   \n",
       "214458  POINT (-108.1098304 43.23554134)      C04   TAC01        Q17   \n",
       "214459  POINT (-108.1098304 43.23554134)      C01   TOC07        Q32   \n",
       "214460  POINT (-108.1098304 43.23554134)      C01   TOC06        Q05   \n",
       "214461  POINT (-108.1098304 43.23554134)      C04   TAC03        Q21   \n",
       "\n",
       "        LocationID StratificationCategoryID1 StratificationID1  \\\n",
       "0               15                       AGE              5064   \n",
       "1               16                       AGE              5064   \n",
       "2               16                       AGE              5064   \n",
       "3               16                       AGE              5064   \n",
       "4               18                       AGE       AGE_OVERALL   \n",
       "...            ...                       ...               ...   \n",
       "214457          56                       AGE              5064   \n",
       "214458          56                       AGE            65PLUS   \n",
       "214459          56                       AGE       AGE_OVERALL   \n",
       "214460          56                       AGE              5064   \n",
       "214461          56                       AGE            65PLUS   \n",
       "\n",
       "       StratificationCategoryID2 StratificationID2  \n",
       "0                        OVERALL           OVERALL  \n",
       "1                        OVERALL           OVERALL  \n",
       "2                        OVERALL           OVERALL  \n",
       "3                        OVERALL           OVERALL  \n",
       "4                         GENDER              MALE  \n",
       "...                          ...               ...  \n",
       "214457                      RACE               BLK  \n",
       "214458                      RACE               ASN  \n",
       "214459                      RACE               NAA  \n",
       "214460                   OVERALL           OVERALL  \n",
       "214461                      RACE               BLK  \n",
       "\n",
       "[214462 rows x 29 columns]"
      ]
     },
     "execution_count": 3,
     "metadata": {},
     "output_type": "execute_result"
    }
   ],
   "source": [
    "source_df = pd.read_csv(DATA_FILE)\n",
    "source_df.info()\n",
    "source_df"
   ]
  },
  {
   "cell_type": "markdown",
   "id": "6134db39-69a5-4289-8709-863e48ac3217",
   "metadata": {},
   "source": [
    "---"
   ]
  },
  {
   "cell_type": "markdown",
   "id": "22bd3a52-b898-45fe-947d-fbe2192ca02d",
   "metadata": {},
   "source": [
    "# Class and YearStart"
   ]
  },
  {
   "cell_type": "code",
   "execution_count": 4,
   "id": "9b468db0-c23d-4693-9f09-fcceec2059b5",
   "metadata": {},
   "outputs": [],
   "source": [
    "df = source_df[[\"Class\", \"YearStart\"]].reset_index(drop=True)"
   ]
  },
  {
   "cell_type": "code",
   "execution_count": 5,
   "id": "ce714232-3f44-404f-81bc-eadf0215b689",
   "metadata": {},
   "outputs": [
    {
     "data": {
      "text/plain": [
       "Class                                YearStart\n",
       "Overall Health                       2020         13806\n",
       "                                     2017         12416\n",
       "                                     2019         12185\n",
       "                                     2016         11236\n",
       "                                     2018         11051\n",
       "                                     2015         11000\n",
       "Screenings and Vaccines              2020          9914\n",
       "Caregiving                           2015          9240\n",
       "Screenings and Vaccines              2016          9138\n",
       "                                     2018          9105\n",
       "Cognitive Decline                    2015          8701\n",
       "Screenings and Vaccines              2017          6562\n",
       "                                     2019          6172\n",
       "                                     2015          5976\n",
       "Nutrition/Physical Activity/Obesity  2017          5539\n",
       "                                     2015          5531\n",
       "                                     2019          5435\n",
       "Cognitive Decline                    2019          3383\n",
       "Caregiving                           2016          2974\n",
       "Mental Health                        2016          2812\n",
       "Smoking and Alcohol Use              2016          2812\n",
       "Nutrition/Physical Activity/Obesity  2016          2812\n",
       "Mental Health                        2017          2770\n",
       "Smoking and Alcohol Use              2017          2769\n",
       "                                     2020          2768\n",
       "Nutrition/Physical Activity/Obesity  2020          2768\n",
       "Mental Health                        2020          2768\n",
       "Smoking and Alcohol Use              2018          2766\n",
       "                                     2015          2766\n",
       "Nutrition/Physical Activity/Obesity  2018          2766\n",
       "Mental Health                        2015          2766\n",
       "                                     2018          2766\n",
       "                                     2019          2718\n",
       "Smoking and Alcohol Use              2019          2718\n",
       "Cognitive Decline                    2020          2467\n",
       "                                     2016          2361\n",
       "Caregiving                           2017          2016\n",
       "                                     2019          1743\n",
       "                                     2020          1515\n",
       "Cognitive Decline                    2017          1357\n",
       "Caregiving                           2018          1183\n",
       "Cognitive Decline                    2018           911\n",
       "Name: count, dtype: int64"
      ]
     },
     "execution_count": 5,
     "metadata": {},
     "output_type": "execute_result"
    }
   ],
   "source": [
    "df1 = df.value_counts().rename(\"count\")\n",
    "df1"
   ]
  },
  {
   "cell_type": "code",
   "execution_count": 6,
   "id": "51e255f1-fd6f-4ef6-be46-e72f220deca8",
   "metadata": {},
   "outputs": [
    {
     "data": {
      "text/plain": [
       "<seaborn.axisgrid.FacetGrid at 0x107029b80>"
      ]
     },
     "execution_count": 6,
     "metadata": {},
     "output_type": "execute_result"
    },
    {
     "data": {
      "image/png": "[encoded data removed]",
      "text/plain": [
       "<Figure size 648x648 with 7 Axes>"
      ]
     },
     "metadata": {
      "needs_background": "light"
     },
     "output_type": "display_data"
    }
   ],
   "source": [
    "df = source_df[[\"Class\", \"YearStart\"]].reset_index(drop=False)\n",
    "g = sns.FacetGrid(df, col=\"Class\", col_wrap=3)\n",
    "g.map(sns.histplot, \"YearStart\")"
   ]
  },
  {
   "cell_type": "markdown",
   "id": "584d498b-f1df-4786-87a4-7867361725e7",
   "metadata": {},
   "source": [
    "---"
   ]
  },
  {
   "cell_type": "markdown",
   "id": "d4cfb0fe-6e5b-44ea-81e8-e4bf4cefeabb",
   "metadata": {},
   "source": [
    "# simple count: Periods"
   ]
  },
  {
   "cell_type": "code",
   "execution_count": 7,
   "id": "c47dc64a-1b4d-49c6-a609-b2039cb5afc6",
   "metadata": {},
   "outputs": [
    {
     "data": {
      "text/plain": [
       "YearStart  YearEnd\n",
       "2020       2020       36006\n",
       "2015       2015       35020\n",
       "2019       2019       34354\n",
       "2016       2016       34145\n",
       "2017       2017       33429\n",
       "2018       2018       30548\n",
       "2015       2020       10960\n",
       "dtype: int64"
      ]
     },
     "execution_count": 7,
     "metadata": {},
     "output_type": "execute_result"
    }
   ],
   "source": [
    "df = source_df[[\"YearStart\", \"YearEnd\"]]\n",
    "df.value_counts()"
   ]
  },
  {
   "cell_type": "markdown",
   "id": "4ab3fc93-7dbe-452c-a490-af8cfd60f74c",
   "metadata": {},
   "source": [
    "---"
   ]
  },
  {
   "cell_type": "markdown",
   "id": "b564850c-e448-4111-8dc6-104cbfe7cd1d",
   "metadata": {},
   "source": [
    "# simple counts"
   ]
  },
  {
   "cell_type": "code",
   "execution_count": 8,
   "id": "ea822bde-076e-48bc-88d3-8f3d094fe91c",
   "metadata": {},
   "outputs": [
    {
     "name": "stdout",
     "output_type": "stream",
     "text": [
      "col: Datasource\n",
      "BRFSS    214462\n",
      "Name: Datasource, dtype: int64\n",
      "\n",
      "\n",
      "\n",
      "col: LocationDesc\n",
      "United States, DC & Territories    4644\n",
      "West                               4638\n",
      "Northeast                          4614\n",
      "Midwest                            4611\n",
      "Oregon                             4565\n",
      "New York                           4557\n",
      "South                              4542\n",
      "Utah                               4222\n",
      "Ohio                               3955\n",
      "Georgia                            3951\n",
      "Maryland                           3919\n",
      "Hawaii                             3907\n",
      "Tennessee                          3879\n",
      "Michigan                           3796\n",
      "Virginia                           3758\n",
      "Florida                            3753\n",
      "Maine                              3733\n",
      "Texas                              3699\n",
      "Nevada                             3696\n",
      "District of Columbia               3684\n",
      "West Virginia                      3682\n",
      "Mississippi                        3677\n",
      "Pennsylvania                       3648\n",
      "New Mexico                         3635\n",
      "Alabama                            3633\n",
      "Kentucky                           3623\n",
      "Alaska                             3611\n",
      "South Carolina                     3592\n",
      "New Jersey                         3589\n",
      "Arizona                            3582\n",
      "Missouri                           3573\n",
      "Illinois                           3571\n",
      "Indiana                            3570\n",
      "Wisconsin                          3569\n",
      "Louisiana                          3563\n",
      "Minnesota                          3555\n",
      "Nebraska                           3546\n",
      "Connecticut                        3543\n",
      "Rhode Island                       3534\n",
      "Oklahoma                           3526\n",
      "South Dakota                       3526\n",
      "North Dakota                       3514\n",
      "Kansas                             3510\n",
      "Idaho                              3507\n",
      "Iowa                               3501\n",
      "Arkansas                           3498\n",
      "Wyoming                            3494\n",
      "California                         3447\n",
      "Colorado                           3390\n",
      "North Carolina                     3349\n",
      "Washington                         3348\n",
      "Montana                            3348\n",
      "Delaware                           3346\n",
      "New Hampshire                      3284\n",
      "Vermont                            3278\n",
      "Massachusetts                      3174\n",
      "Puerto Rico                        2797\n",
      "Guam                               2703\n",
      "Virgin Islands                      503\n",
      "Name: LocationDesc, dtype: int64\n",
      "\n",
      "\n",
      "\n",
      "col: Stratification1\n",
      "Overall              71919\n",
      "50-64 years          71528\n",
      "65 years or older    71015\n",
      "Name: Stratification1, dtype: int64\n",
      "\n",
      "\n",
      "\n"
     ]
    }
   ],
   "source": [
    "COLS = [\"Datasource\", \"LocationDesc\", \"Stratification1\"]\n",
    "for col in COLS:\n",
    "    df = source_df[col]\n",
    "    print(f\"col: {col}\")\n",
    "    print(df.value_counts())\n",
    "    print(\"\\n\\n\")"
   ]
  },
  {
   "cell_type": "markdown",
   "id": "318934d9-fb14-4a93-91ce-0394ea56b167",
   "metadata": {},
   "source": [
    "---"
   ]
  },
  {
   "cell_type": "markdown",
   "id": "f4690b72-f7a8-437b-8d57-36536c4cbc56",
   "metadata": {
    "tags": []
   },
   "source": [
    "# some plots"
   ]
  },
  {
   "cell_type": "code",
   "execution_count": 75,
   "id": "6b76774d-ea06-41bd-aece-1d324b1d8053",
   "metadata": {},
   "outputs": [
    {
     "name": "stderr",
     "output_type": "stream",
     "text": [
      "/Users/ik18445/miniconda3/envs/analysis/lib/python3.8/site-packages/seaborn/categorical.py:3717: UserWarning: The `factorplot` function has been renamed to `catplot`. The original name will be removed in a future release. Please update your code. Note that the default `kind` in `factorplot` (`'point'`) has changed `'strip'` in `catplot`.\n",
      "  warnings.warn(msg)\n",
      "/Users/ik18445/miniconda3/envs/analysis/lib/python3.8/site-packages/seaborn/categorical.py:3723: UserWarning: The `size` parameter has been renamed to `height`; please update your code.\n",
      "  warnings.warn(msg, UserWarning)\n"
     ]
    },
    {
     "data": {
      "text/plain": [
       "<seaborn.axisgrid.FacetGrid at 0x30c207b50>"
      ]
     },
     "execution_count": 75,
     "metadata": {},
     "output_type": "execute_result"
    },
    {
     "data": {
      "image/png": "[encoded data removed]",
      "text/plain": [
       "<Figure size 1070.12x576 with 4 Axes>"
      ]
     },
     "metadata": {
      "needs_background": "light"
     },
     "output_type": "display_data"
    }
   ],
   "source": [
    "STATES = [\n",
    "    \"New York\", \"Texas\", \"California\", \"Florida\",\n",
    "         ]\n",
    "df = source_df[source_df[\"LocationDesc\"].isin(STATES)].reset_index(drop=True)\n",
    "sns.factorplot(x=\"YearStart\", hue=\"Class\", col=\"LocationDesc\",\n",
    "               col_wrap=3,\n",
    "               size=4, aspect=1, \n",
    "               kind=\"count\",\n",
    "               data=df)"
   ]
  },
  {
   "cell_type": "code",
   "execution_count": 86,
   "id": "dc62134f-b00f-48bf-b070-e3f52c009ad1",
   "metadata": {},
   "outputs": [
    {
     "name": "stderr",
     "output_type": "stream",
     "text": [
      "/Users/ik18445/miniconda3/envs/analysis/lib/python3.8/site-packages/seaborn/categorical.py:3717: UserWarning: The `factorplot` function has been renamed to `catplot`. The original name will be removed in a future release. Please update your code. Note that the default `kind` in `factorplot` (`'point'`) has changed `'strip'` in `catplot`.\n",
      "  warnings.warn(msg)\n",
      "/Users/ik18445/miniconda3/envs/analysis/lib/python3.8/site-packages/seaborn/categorical.py:3723: UserWarning: The `size` parameter has been renamed to `height`; please update your code.\n",
      "  warnings.warn(msg, UserWarning)\n"
     ]
    },
    {
     "data": {
      "text/plain": [
       "<seaborn.axisgrid.FacetGrid at 0x319f31730>"
      ]
     },
     "execution_count": 86,
     "metadata": {},
     "output_type": "execute_result"
    },
    {
     "data": {
      "image/png": "[encoded data removed]",
      "text/plain": [
       "<Figure size 742.125x576 with 4 Axes>"
      ]
     },
     "metadata": {
      "needs_background": "light"
     },
     "output_type": "display_data"
    }
   ],
   "source": [
    "STATES = [\n",
    "    \"West\", \"Northeast\", \"Midwest\", \"South\"\n",
    "         ]\n",
    "df = source_df[source_df[\"LocationDesc\"].isin(STATES)].reset_index(drop=True)\n",
    "sns.factorplot(\n",
    "    x=\"YearStart\", hue=\"Stratification2\", col=\"LocationDesc\",\n",
    "               col_wrap=2,\n",
    "               size=4, aspect=1, \n",
    "               kind=\"count\",\n",
    "               data=df)"
   ]
  },
  {
   "cell_type": "code",
   "execution_count": 87,
   "id": "1576d722-21d6-4e6e-a4b3-77d3ab6a7145",
   "metadata": {},
   "outputs": [
    {
     "name": "stderr",
     "output_type": "stream",
     "text": [
      "/Users/ik18445/miniconda3/envs/analysis/lib/python3.8/site-packages/seaborn/categorical.py:3717: UserWarning: The `factorplot` function has been renamed to `catplot`. The original name will be removed in a future release. Please update your code. Note that the default `kind` in `factorplot` (`'point'`) has changed `'strip'` in `catplot`.\n",
      "  warnings.warn(msg)\n",
      "/Users/ik18445/miniconda3/envs/analysis/lib/python3.8/site-packages/seaborn/categorical.py:3723: UserWarning: The `size` parameter has been renamed to `height`; please update your code.\n",
      "  warnings.warn(msg, UserWarning)\n"
     ]
    },
    {
     "data": {
      "text/plain": [
       "<seaborn.axisgrid.FacetGrid at 0x31b58bb20>"
      ]
     },
     "execution_count": 87,
     "metadata": {},
     "output_type": "execute_result"
    },
    {
     "data": {
      "image/png": "[encoded data removed]",
      "text/plain": [
       "<Figure size 742.125x576 with 4 Axes>"
      ]
     },
     "metadata": {
      "needs_background": "light"
     },
     "output_type": "display_data"
    }
   ],
   "source": [
    "STATES = [\n",
    "    \"New York\", \"Texas\", \"California\", \"Florida\",\n",
    "         ]\n",
    "df = source_df[source_df[\"LocationDesc\"].isin(STATES)].reset_index(drop=True)\n",
    "sns.factorplot(\n",
    "    x=\"YearStart\", hue=\"Stratification2\", col=\"LocationDesc\",\n",
    "               col_wrap=2,\n",
    "               size=4, aspect=1, \n",
    "               kind=\"count\",\n",
    "               data=df)"
   ]
  },
  {
   "cell_type": "code",
   "execution_count": 89,
   "id": "d08eb804-0131-49d2-b8a8-2d1ba10f84cf",
   "metadata": {},
   "outputs": [
    {
     "name": "stderr",
     "output_type": "stream",
     "text": [
      "/Users/ik18445/miniconda3/envs/analysis/lib/python3.8/site-packages/seaborn/categorical.py:3717: UserWarning: The `factorplot` function has been renamed to `catplot`. The original name will be removed in a future release. Please update your code. Note that the default `kind` in `factorplot` (`'point'`) has changed `'strip'` in `catplot`.\n",
      "  warnings.warn(msg)\n"
     ]
    },
    {
     "data": {
      "text/plain": [
       "<seaborn.axisgrid.FacetGrid at 0x31bf5cee0>"
      ]
     },
     "execution_count": 89,
     "metadata": {},
     "output_type": "execute_result"
    },
    {
     "data": {
      "image/png": "[encoded data removed]",
      "text/plain": [
       "<Figure size 1440x360 with 4 Axes>"
      ]
     },
     "metadata": {
      "needs_background": "light"
     },
     "output_type": "display_data"
    }
   ],
   "source": [
    "df = source_df[\n",
    "    source_df[\"Question\"] == \n",
    "               \"Percentage of older adults with a lifetime diagnosis of depression\"].reset_index(drop=True)\n",
    "\n",
    "STATES = [\n",
    "    \"New York\", \"Texas\", \"California\", \"Florida\",\n",
    "         ]\n",
    "df = df[df[\"LocationDesc\"].isin(STATES)].reset_index(drop=True)\n",
    "sns.factorplot(\n",
    "    data=df, \n",
    "    col=\"LocationDesc\",\n",
    "    x=\"YearStart\", y=\"Data_Value\"\n",
    "    )"
   ]
  }
 ],
 "metadata": {
  "kernelspec": {
   "display_name": "Python 3 (ipykernel)",
   "language": "python",
   "name": "python3"
  },
  "language_info": {
   "codemirror_mode": {
    "name": "ipython",
    "version": 3
   },
   "file_extension": ".py",
   "mimetype": "text/x-python",
   "name": "python",
   "nbconvert_exporter": "python",
   "pygments_lexer": "ipython3",
   "version": "3.8.13"
  }
 },
 "nbformat": 4,
 "nbformat_minor": 5
}
